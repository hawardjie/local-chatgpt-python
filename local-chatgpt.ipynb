{
 "cells": [
  {
   "cell_type": "code",
   "execution_count": 5,
   "id": "9c2d5415-d205-4b49-9490-4cae08cc24fc",
   "metadata": {},
   "outputs": [],
   "source": [
    "# Required setup\n",
    "# python -m venv .venv\n",
    "# source .venv/bin/activate\n",
    "# pip install -r requirements.txt"
   ]
  },
  {
   "cell_type": "code",
   "execution_count": 6,
   "id": "aeab5a54-becb-4407-873b-73f46c05d65d",
   "metadata": {},
   "outputs": [],
   "source": [
    "import os\n",
    "import requests\n",
    "from dotenv import load_dotenv\n",
    "from bs4 import BeautifulSoup\n",
    "from IPython.display import Markdown, display\n",
    "from openai import OpenAI"
   ]
  },
  {
   "cell_type": "code",
   "execution_count": 7,
   "id": "398f559b-8e15-4163-85f2-9dfd30cf9622",
   "metadata": {},
   "outputs": [],
   "source": [
    "load_dotenv()\n",
    "api_key = os.getenv('OPENAI_API_KEY')"
   ]
  },
  {
   "cell_type": "code",
   "execution_count": null,
   "id": "a4cf5b6f-f5e5-41c5-8d2b-8bf4e7a59f02",
   "metadata": {},
   "outputs": [],
   "source": [
    "system_prompt = \"\"\n",
    "user_prompt = \"\"\n",
    "\n",
    "messages = []\n",
    "\n"
   ]
  }
 ],
 "metadata": {
  "kernelspec": {
   "display_name": "Python 3 (ipykernel)",
   "language": "python",
   "name": "python3"
  },
  "language_info": {
   "codemirror_mode": {
    "name": "ipython",
    "version": 3
   },
   "file_extension": ".py",
   "mimetype": "text/x-python",
   "name": "python",
   "nbconvert_exporter": "python",
   "pygments_lexer": "ipython3",
   "version": "3.8.20"
  }
 },
 "nbformat": 4,
 "nbformat_minor": 5
}
